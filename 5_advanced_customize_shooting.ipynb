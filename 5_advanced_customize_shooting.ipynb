{
 "cells": [
  {
   "cell_type": "markdown",
   "metadata": {},
   "source": [
    "# Customizing shooting moves\n",
    "\n",
    "The tutorial focuses on how to customize shooting moves in the move scheme. We discuss three major reasons to do that:\n",
    "\n",
    "1. To use a different kind of shooting move, such as two-way shooting, when needed.\n",
    "2. To use a different shooting point selector, such as a Gaussian biased selector, to get better efficiency.\n",
    "3. To create move schemes that only sample part of the network, for example, to perform TIS with each ensemble sampled in parallel.\n",
    "\n",
    "In addition, you'll learn about:\n",
    "\n",
    "* Creating a \"setup\" file with engine and other simulation information.\n",
    "* Using the OpenPathSampling command line interface (CLI) to run simulations from the setup file.\n",
    "\n",
    "Note that you'll need to install the CLI, which can be done with either `pip install openpathsampling-cli` or `conda install -c conda-forge openpathsampling-cli`.\n"
   ]
  },
  {
   "cell_type": "code",
   "execution_count": null,
   "metadata": {},
   "outputs": [],
   "source": [
    "import matplotlib.pyplot as plt\n",
    "\n",
    "import openpathsampling as paths\n",
    "from openpathsampling import strategies"
   ]
  },
  {
   "cell_type": "markdown",
   "metadata": {},
   "source": [
    "## A simple toy model example system\n",
    "\n",
    "In this notebook, we'll use a simple toy system. For the most part, the ideas here directly generalize to other engines, although we'll make a few comments where the units associated with OpenMM require special care.\n",
    "\n",
    "We'll start by loading a number things from the storage file:"
   ]
  },
  {
   "cell_type": "code",
   "execution_count": null,
   "metadata": {},
   "outputs": [],
   "source": [
    "storage = paths.Storage(\"./inputs/2_state_toy.nc\", mode='r')\n",
    "state_A = storage.volumes['A']\n",
    "state_B = storage.volumes['B']\n",
    "cv = storage.cvs['x']\n",
    "engine = storage.engines['toy_engine']\n",
    "initial_conditions = storage.tags['initial_conditions']"
   ]
  },
  {
   "cell_type": "markdown",
   "metadata": {},
   "source": [
    "The toy model here uses a simple 2D potential energy surface, described by:\n",
    "\n",
    "$$V(x, y) = x^6 + y^6 - e^{-12(x+0.6)^2 - 5 y^2} - e^{-12(x-0.6)^2 - 5 y^2}$$\n",
    "\n",
    "We can visualize the toy engine using the `toy_plot_helpers` included in this repository:"
   ]
  },
  {
   "cell_type": "code",
   "execution_count": null,
   "metadata": {},
   "outputs": [],
   "source": [
    "%run toy_plot_helpers.py\n",
    "\n",
    "pes = engine.topology.pes\n",
    "\n",
    "plot = ToyPlot()\n",
    "plot.contour_range = np.arange(-1.5, 1.0, 0.1)\n",
    "plot.add_pes(pes)\n",
    "fig = plot.plot() "
   ]
  },
  {
   "cell_type": "markdown",
   "metadata": {},
   "source": [
    "We run this simulation at a temperature of $T=0.1$, so the barrier between those wells is about $10\\ k_\\text{B} T$."
   ]
  },
  {
   "cell_type": "markdown",
   "metadata": {},
   "source": [
    "## Changing the shooting move type (e.g., two-way shooting)\n",
    "\n",
    "TPS is usually introduced with two-way shooting. In that algorithm, you select a frame of the trajectory, make some modification (typically changing the velocities in some way consistent with the thermodynamic ensemble), and then integrate the equations of motion forward and backward.\n",
    "\n",
    "However, this is problematic if the velocity memory is short compared to your TPS trajectory length, as is often the case in condensed phase systems. In this case, each shot might as well be a committor shot. The ideal place to shoot from is the where the committor is 1/2, where each shot has only a 50% chance of landing in the correct state. But this gives you a maximum of a 25% acceptance rate.\n",
    "\n",
    "To get around this, we typically use the one-way shooting algorithm when working with condensed matter systems. One-way shooting works under the assumption that you are using a stochastic integrator. If that's the case, then instead of changing the velocities at the shooting point, you can use the fact that the integrator will generate a new sequence of random numbers. Therefore, you create a new trajectory by only running in one direction, and that trajectory is still a valid, physical trajectory.\n",
    "\n",
    "In general, OpenPathSampling defaults to using one-way shooting. However, there are circumstances where you might want to use the older two-way shooting algorithm. For example, if the velocity memory is shorter than the period between saved frames, it might be better to use two-way shooting. If you intend to use deterministic dynamics, then one-way shooting is not possible.\n",
    "\n",
    "This part of the tutorial will show you how to use two-way shooting instead of one-way shooting in OPS. There are two ways of doing this: either replace the existing one-way shooting strategy, or create a new move scheme from scratch."
   ]
  },
  {
   "cell_type": "code",
   "execution_count": null,
   "metadata": {},
   "outputs": [],
   "source": [
    "tps_network = paths.TPSNetwork(initial_states=state_A, final_states=state_B)"
   ]
  },
  {
   "cell_type": "markdown",
   "metadata": {},
   "source": [
    "### Replacing parts of an existing move scheme\n",
    "\n",
    "Frequently, the easiest way to modify a move scheme (especially a complex move scheme) is to replace the parts that you want to change. In this case, we can start with the move scheme that only includes 1-way shooting, and work from there."
   ]
  },
  {
   "cell_type": "code",
   "execution_count": null,
   "metadata": {},
   "outputs": [],
   "source": [
    "modified_scheme = paths.OneWayShootingMoveScheme(\n",
    "    network=tps_network,\n",
    "    engine=engine\n",
    ").named(\"2_way_from_1_way\")"
   ]
  },
  {
   "cell_type": "markdown",
   "metadata": {},
   "source": [
    "For our two-way shooting, we'll need to create a `TwoWayShootingStrategy`. This will require a modifier; to keep things simple, we'll completely randomize velocities (consistent with a given temperature) using `paths.RandomVelocities`. In order to be consistent between engines, `RandomVelocities` takes its input as the inverse temperature, $\\beta = 1/(k_\\text{B}T)$.\n",
    "\n",
    "For the toy engine, we can obtain the temperature from `engine.integ.temperature`, and we work in units where $k_\\text{B}=1$, so it is easy to calculate $\\beta$. For other engines, you'll need to use the correct value of $k_\\text{B}$. For OpenMM, you also need to worry about units: use `simtk.unit.BOLTZMANN_CONSTANT_kB`.\n",
    "\n"
   ]
  },
  {
   "cell_type": "code",
   "execution_count": null,
   "metadata": {
    "scrolled": true
   },
   "outputs": [],
   "source": [
    "print(engine.integ.temperature)"
   ]
  },
  {
   "cell_type": "code",
   "execution_count": null,
   "metadata": {},
   "outputs": [],
   "source": [
    "# YOUR TURN: Set beta correctly (yes, this is as easy as you think).\n",
    "# beta = ... # fill in the ellipsis and uncomment this line"
   ]
  },
  {
   "cell_type": "code",
   "execution_count": null,
   "metadata": {},
   "outputs": [],
   "source": [
    "modifier = paths.RandomVelocities(beta=beta, engine=engine)\n",
    "shooting_strategy = strategies.TwoWayShootingStrategy(modifier=modifier, engine=engine)"
   ]
  },
  {
   "cell_type": "markdown",
   "metadata": {},
   "source": [
    "To modify a move scheme, just `append` new strategies. In this case, the new strategy for the group of moves called `'shooting'` will be overwritten. If you gave the `TwoWayShootingStrategy` a different string for its `group` argument, then you would create a second group of movers, and each move would have a 50/50 chance of using one-way shooting or of using two-way shooting."
   ]
  },
  {
   "cell_type": "code",
   "execution_count": null,
   "metadata": {},
   "outputs": [],
   "source": [
    "modified_scheme.append(shooting_strategy)"
   ]
  },
  {
   "cell_type": "markdown",
   "metadata": {},
   "source": [
    "### Building a move scheme from scratch\n",
    "\n",
    "In this particular case, our overall move scheme will not be too complicated. In fact, let's start by looking at the at the code for "
   ]
  },
  {
   "cell_type": "code",
   "execution_count": null,
   "metadata": {},
   "outputs": [],
   "source": [
    "import inspect\n",
    "from IPython.display import Code\n",
    "\n",
    "Code(inspect.getsource(paths.OneWayShootingMoveScheme))"
   ]
  },
  {
   "cell_type": "markdown",
   "metadata": {},
   "source": [
    "The output above is the full source code for the `OneWayShootingMoveScheme`. You can see that all it does is pass the network up to the superclass's initialization, and then `append` two move strategies to itself. So we can recreate this:"
   ]
  },
  {
   "cell_type": "code",
   "execution_count": null,
   "metadata": {},
   "outputs": [],
   "source": [
    "two_way_scheme = paths.MoveScheme(network=tps_network).named(\"2_way\")\n",
    "global_strategy = strategies.OrganizeByMoveGroupStrategy()\n",
    "two_way_scheme.append([shooting_strategy, global_strategy])"
   ]
  },
  {
   "cell_type": "markdown",
   "metadata": {},
   "source": [
    "## Changing the shooting point selection\n",
    "\n",
    "A common problem in one-way shooting is that paths do not decorrelate quickly enough. This typically happens when there is a significant barrier withing the transition region, such that shooting points before the barrier always go back to the initial state (so only backward shots are accepted) and shooting points after the barrier always to do the final state (so only forward shots are accepted).\n",
    "\n",
    "The same issue manifests in two-way shooting as a significant decrease in the acceptance rate for the shooting move. One side of the barrier always creates $A\\to A$ trials, while the other side always creates $B\\to B$ trials. With fewer $A\\to B$ trials, the acceptance rate drops."
   ]
  },
  {
   "cell_type": "code",
   "execution_count": null,
   "metadata": {},
   "outputs": [],
   "source": [
    "import numpy as np\n",
    "xvals = np.arange(-1.0, 1.0, 0.01)\n",
    "\n",
    "def plot_gaussian_bias(selector):\n",
    "    alpha = selector.alpha\n",
    "    x_0 = selector.l_0\n",
    "    gaussians = np.exp(-alpha*(xvals - x_0)**2)\n",
    "    plt.plot(xvals, gaussians)"
   ]
  },
  {
   "cell_type": "code",
   "execution_count": null,
   "metadata": {},
   "outputs": [],
   "source": [
    "biased_shooting_scheme = paths.MoveScheme(network=tps_network).named(\"biased_shooting\")"
   ]
  },
  {
   "cell_type": "code",
   "execution_count": null,
   "metadata": {},
   "outputs": [],
   "source": [
    "gaussian_sel = paths.GaussianBiasSelector(cv, alpha=100.0, l_0=0.0)"
   ]
  },
  {
   "cell_type": "code",
   "execution_count": null,
   "metadata": {},
   "outputs": [],
   "source": [
    "plot_gaussian_bias(gaussian_sel)"
   ]
  },
  {
   "cell_type": "code",
   "execution_count": null,
   "metadata": {},
   "outputs": [],
   "source": [
    "paths.GaussianBiasSelector?"
   ]
  },
  {
   "cell_type": "code",
   "execution_count": null,
   "metadata": {},
   "outputs": [],
   "source": [
    "# YOUR TURN: Create a move scheme using a two-way shooting strategy with this selector.\n",
    "# 1. Create a two-way shooting strategy that uses this Gaussian selector. (Use the \n",
    "#    selector keyword argument of TwoWayShootingStrategy.)\n",
    "# 2. Append that strategy and the global_strategy to the biased_shooting_scheme\n"
   ]
  },
  {
   "cell_type": "markdown",
   "metadata": {},
   "source": [
    "Next we verify that the initial conditions will work for the move schemes we've created."
   ]
  },
  {
   "cell_type": "code",
   "execution_count": null,
   "metadata": {},
   "outputs": [],
   "source": [
    "_ = two_way_scheme.initial_conditions_from_trajectories(initial_conditions)"
   ]
  },
  {
   "cell_type": "code",
   "execution_count": null,
   "metadata": {},
   "outputs": [],
   "source": [
    "_ = biased_shooting_scheme.initial_conditions_from_trajectories(initial_conditions)"
   ]
  },
  {
   "cell_type": "markdown",
   "metadata": {},
   "source": [
    "## Run the simulations\n",
    "\n",
    "Now that we've created these various move schemes, we'll save them to a file, and use that as the input file for the OpenPathSampling command line interface."
   ]
  },
  {
   "cell_type": "code",
   "execution_count": null,
   "metadata": {},
   "outputs": [],
   "source": [
    "shooting_setup = paths.Storage(\"shooting_setup.nc\", mode='w')"
   ]
  },
  {
   "cell_type": "code",
   "execution_count": null,
   "metadata": {},
   "outputs": [],
   "source": [
    "# saving everything will take a few minutes\n",
    "shooting_setup.tags['initial_conditions'] = initial_conditions\n",
    "shooting_setup.save(two_way_scheme)\n",
    "shooting_setup.save(biased_shooting_scheme)\n",
    "shooting_setup.close()"
   ]
  },
  {
   "cell_type": "markdown",
   "metadata": {},
   "source": [
    "Now, use the OpenPathSampling command line interface to run simulations with these. Run at least 500 steps (`-n 500`), or run more if you'd like.\n",
    "\n",
    "```\n",
    "$ openpathsampling pathsampling shooting_setup.nc -o 2_way.nc --scheme 2_way -n 500\n",
    "\n",
    "$ openpathsampling pathsampling shooting_setup.nc -o biased.nc --scheme biased_shooting -n 500\n",
    "```\n",
    "\n",
    "Those simulations will take a few minutes, so this is a good time to take a quick break. In the next section, we'll analyze the results."
   ]
  },
  {
   "cell_type": "markdown",
   "metadata": {},
   "source": [
    "## Comparing two-way shooting to biased shooting\n",
    "\n",
    "Let's open the output file and analyze the results."
   ]
  },
  {
   "cell_type": "code",
   "execution_count": null,
   "metadata": {},
   "outputs": [],
   "source": [
    "std_two_way = paths.Storage(\"2_way.nc\", mode='r')\n",
    "biased_two_way = paths.Storage(\"biased.nc\", mode='r')"
   ]
  },
  {
   "cell_type": "code",
   "execution_count": null,
   "metadata": {},
   "outputs": [],
   "source": [
    "two_way_scheme = std_two_way.schemes['2_way']\n",
    "biased_scheme = biased_two_way.schemes['biased_shooting']"
   ]
  },
  {
   "cell_type": "code",
   "execution_count": null,
   "metadata": {},
   "outputs": [],
   "source": [
    "# each of these will take about a minute\n",
    "two_way_scheme.move_summary(std_two_way.steps)"
   ]
  },
  {
   "cell_type": "code",
   "execution_count": null,
   "metadata": {},
   "outputs": [],
   "source": [
    "biased_scheme.move_summary(biased_two_way.steps)"
   ]
  },
  {
   "cell_type": "markdown",
   "metadata": {},
   "source": [
    "As you can see, the acceptance rate for uniform 2-way shooting is pretty low. We improve this significantly by using the Gaussian biased shooting (keeping in mind that 25% is the theoretical maximum acceptance rate for the approach we use here.)\n",
    "\n",
    "Next we will plot the shooting points with uniform shooting point selection and with the Gaussian biased shooting point selection. First we write and use a little function to extract the shooting points."
   ]
  },
  {
   "cell_type": "code",
   "execution_count": null,
   "metadata": {},
   "outputs": [],
   "source": [
    "def get_shooting_points(steps):\n",
    "    \"\"\"Function to extract x,y positions of all shooting points\"\"\"\n",
    "    shooting_snaps = [step.change.canonical.details.shooting_snapshot for step in steps]\n",
    "    xy = [snap.xyz[0][:2] for snap in shooting_snaps]  # get x and y positions\n",
    "    return tuple(zip(*xy))  # [[x1, y1], [x2, y2]]  => ([x1, x2], [y1, y2])"
   ]
  },
  {
   "cell_type": "code",
   "execution_count": null,
   "metadata": {},
   "outputs": [],
   "source": [
    "# the 0th step saves initial conditions, so we only have shooting moves as of step 1\n",
    "std_x, std_y = get_shooting_points(std_two_way.steps[1:])\n",
    "biased_x, biased_y = get_shooting_points(biased_two_way.steps[1:])"
   ]
  },
  {
   "cell_type": "markdown",
   "metadata": {},
   "source": [
    "The next two plots show the location of shooting points in the when using uniform shooting (first plot) and when using Gaussian biased shooting (second plot). Note that the shooting points fall in a much narrower range in the Gaussian biased plots. This is also why we get a better acceptance rate!"
   ]
  },
  {
   "cell_type": "code",
   "execution_count": null,
   "metadata": {},
   "outputs": [],
   "source": [
    "plot.plot()\n",
    "plt.scatter(std_x, std_y, c=range(len(std_x)), cmap='rainbow');"
   ]
  },
  {
   "cell_type": "code",
   "execution_count": null,
   "metadata": {},
   "outputs": [],
   "source": [
    "plot.plot()\n",
    "plt.scatter(biased_x, biased_y, c=range(len(std_x)), cmap='rainbow');"
   ]
  },
  {
   "cell_type": "markdown",
   "metadata": {},
   "source": [
    "## (Embarassingly) parallel TIS without replica exchange\n",
    "\n",
    "The OPS `DefaultScheme` is designed to provide reasonable default behaviors for TIS. These include replica exchange moves, path reversal moves, the minus interface move, as well as shooting. In general, replica exchange TIS is a much more efficient way to sample than TIS without replica exchange. However, replica exchange TIS is much harder to parallelize, because the duration of each trajectory is not known before running the trajectory.\n",
    "\n",
    "Therefore, in some cases you may want to sample each interface independently. This allows a naïve parallelization, since each interface is its own simulation.\n",
    "\n",
    "Here, we will make a RETIS scheme that is similar to the default scheme, except it doesn't include the minus interface move."
   ]
  },
  {
   "cell_type": "code",
   "execution_count": null,
   "metadata": {},
   "outputs": [],
   "source": [
    "interfaces = paths.VolumeInterfaceSet(cv=cv, minvals=float(\"-inf\"), \n",
    "                                      maxvals=[-0.60, -0.5, -0.4, -0.3, -0.2])\n",
    "tis_network = paths.MISTISNetwork([(state_A, interfaces, state_B)]).named(\"tis\")"
   ]
  },
  {
   "cell_type": "code",
   "execution_count": null,
   "metadata": {},
   "outputs": [],
   "source": [
    "# this is basically the DefaultScheme without the minus interface move\n",
    "retis_scheme = paths.MoveScheme(network=tis_network).named(\"retis\")\n",
    "retis_scheme.append([\n",
    "    strategies.OneWayShootingStrategy(engine=engine),\n",
    "    strategies.PathReversalStrategy(),\n",
    "    strategies.NearestNeighborRepExStrategy(),\n",
    "    strategies.OrganizeByMoveGroupStrategy()\n",
    "])"
   ]
  },
  {
   "cell_type": "markdown",
   "metadata": {},
   "source": [
    "The `OneWayShootingStrategy` includes an `ensembles`, which selects specific ensembles. The (normal TIS) ensembles sampled by the TIS network are in the attribute `sampling_ensembles`. (Aside: other ensembles, such as the minus interface ensembles, are in the `special_ensembles` attribute.) This means that we can create a strategy "
   ]
  },
  {
   "cell_type": "code",
   "execution_count": null,
   "metadata": {},
   "outputs": [],
   "source": [
    "ens_0_strategy = strategies.OneWayShootingStrategy(\n",
    "    ensembles=[tis_network.sampling_ensembles[0]],\n",
    "    engine=engine\n",
    ")"
   ]
  },
  {
   "cell_type": "markdown",
   "metadata": {},
   "source": [
    "From here, we can make a "
   ]
  },
  {
   "cell_type": "code",
   "execution_count": null,
   "metadata": {},
   "outputs": [],
   "source": [
    "scheme_0 = paths.MoveScheme(tis_network).named(\"scheme_0\")\n",
    "scheme_1 = paths.MoveScheme(tis_network).named(\"scheme_1\")\n",
    "scheme_2 = paths.MoveScheme(tis_network).named(\"scheme_2\")\n",
    "scheme_3 = paths.MoveScheme(tis_network).named(\"scheme_3\")\n",
    "scheme_4 = paths.MoveScheme(tis_network).named(\"scheme_4\")"
   ]
  },
  {
   "cell_type": "code",
   "execution_count": null,
   "metadata": {},
   "outputs": [],
   "source": [
    "global_strategy = strategies.OrganizeByMoveGroupStrategy()"
   ]
  },
  {
   "cell_type": "code",
   "execution_count": null,
   "metadata": {},
   "outputs": [],
   "source": [
    "# YOUR TURN: Make the correct strategies and append things to the scheme\n",
    "# 1. Create a OneWayShootingStrategy for each ensemble\n",
    "# 2. Append the global_strategy and the appropriate shooting strategy to each scheme\n"
   ]
  },
  {
   "cell_type": "markdown",
   "metadata": {},
   "source": [
    "## Running TIS\n",
    "\n",
    "Again, we'll use the command line interface to run the TIS. So the first stage is to save the relevant things to a file, and then we can use the `--scheme` option in the `pathsampling` command to select which scheme to run.\n",
    "\n",
    "First, we check that all our schemes are correct:"
   ]
  },
  {
   "cell_type": "code",
   "execution_count": null,
   "metadata": {},
   "outputs": [],
   "source": [
    "_ = retis_scheme.initial_conditions_from_trajectories(initial_conditions)"
   ]
  },
  {
   "cell_type": "code",
   "execution_count": null,
   "metadata": {},
   "outputs": [],
   "source": [
    "_ = scheme_0.initial_conditions_from_trajectories(initial_conditions)"
   ]
  },
  {
   "cell_type": "code",
   "execution_count": null,
   "metadata": {},
   "outputs": [],
   "source": [
    "_ = scheme_1.initial_conditions_from_trajectories(initial_conditions)"
   ]
  },
  {
   "cell_type": "code",
   "execution_count": null,
   "metadata": {},
   "outputs": [],
   "source": [
    "_ = scheme_2.initial_conditions_from_trajectories(initial_conditions)"
   ]
  },
  {
   "cell_type": "code",
   "execution_count": null,
   "metadata": {},
   "outputs": [],
   "source": [
    "_ = scheme_3.initial_conditions_from_trajectories(initial_conditions)"
   ]
  },
  {
   "cell_type": "code",
   "execution_count": null,
   "metadata": {},
   "outputs": [],
   "source": [
    "_ = scheme_4.initial_conditions_from_trajectories(initial_conditions)"
   ]
  },
  {
   "cell_type": "code",
   "execution_count": null,
   "metadata": {},
   "outputs": [],
   "source": [
    "# saving everything will take a few minutes\n",
    "parallel_setup = paths.Storage(\"parallel_setup.nc\", mode='w')\n",
    "parallel_setup.tags['initial_conditions'] = initial_conditions\n",
    "parallel_setup.save(retis_scheme)\n",
    "parallel_setup.save(scheme_0)\n",
    "parallel_setup.save(scheme_1)\n",
    "parallel_setup.save(scheme_2)\n",
    "parallel_setup.save(scheme_3)\n",
    "parallel_setup.save(scheme_4)\n",
    "parallel_setup.close()"
   ]
  },
  {
   "cell_type": "markdown",
   "metadata": {},
   "source": [
    "In OPS, each individual move, such as an attempt to swap a specific pair of replicas, counts as a Monte Carlo step. So in order to make a fair comparison of the approaches with an without replica exchange, we want to ensure that they both have about the same number of shooting moves for each ensemble.\n",
    "\n",
    "However, the `MoveScheme` can give us an estimate of how many total moves are required to get a certain number of moves of a certain mover. To get 250 trials of the 0th (only!) shooting mover in `scheme_0`, how many total steps do we need?"
   ]
  },
  {
   "cell_type": "code",
   "execution_count": null,
   "metadata": {},
   "outputs": [],
   "source": [
    "scheme_0.n_steps_for_trials(scheme_0.movers['shooting'][0], 250)"
   ]
  },
  {
   "cell_type": "markdown",
   "metadata": {},
   "source": [
    "That answer is probably pretty obvious. But what about our RETIS scheme? How many total steps to we need (on average) to get 250 trials of the 0th shooting mover from that move scheme?"
   ]
  },
  {
   "cell_type": "code",
   "execution_count": null,
   "metadata": {},
   "outputs": [],
   "source": [
    "# YOUR TURN: Answer the question above\n"
   ]
  },
  {
   "cell_type": "markdown",
   "metadata": {},
   "source": [
    "This should be a significantly larger number, and it is due to the many replica exchange and path reversal moves in that move scheme."
   ]
  },
  {
   "cell_type": "markdown",
   "metadata": {},
   "source": [
    "Now let's run the simulations. First, we equilibrate the initial condition. You can do this with:\n",
    "\n",
    "```\n",
    "$ openpathsampling equilibrate parallel_setup.nc -o retis_equil.nc --scheme retis --extra-steps 50\n",
    "```\n",
    "\n",
    "That will first run until the first decorrelated path (no frames in common with the initial trajectory), and then run an additional 50 MC steps. The results will be saved in the `scheme_0_equil.nc` file.\n",
    "\n",
    "Then you can run the full simulation with:\n",
    "```\n",
    "$ openpathsampling pathsampling retis_equil.nc -o retis.nc -n $NSTEPS > retis.out &\n",
    "```\n",
    "where you should replace `$NSTEPS` with the number of steps you found for RETIS above. \n",
    "\n",
    "If you're not familiar, the `> retis.out` redirects the output to the file `retis.out` (you can `cat retis.out` to see progress updates), and the `&` at the end of the command forces the command to run in the background, so that you can issue more commands from the same command line (i.e., run multiple things in parallel).\n",
    "\n",
    "* Why don't you need to specify a `--scheme` with the second command? (Hint: use the `openpathsampling contents` command on `retis_equil.nc` and `parallel_setup.nc`. How many move schemes are saved in each?) \n",
    "\n",
    "\n",
    "Do the same for `scheme_0`, `scheme_1`, `scheme_2`, `scheme_3` and `scheme_4`, running the path sampling with 250 steps each. In this way, you will be running all 5 interfaces in parallel."
   ]
  },
  {
   "cell_type": "markdown",
   "metadata": {},
   "source": [
    "## Analyzing the TIS simulations"
   ]
  },
  {
   "cell_type": "code",
   "execution_count": null,
   "metadata": {},
   "outputs": [],
   "source": [
    "from openpathsampling.analysis import tis"
   ]
  },
  {
   "cell_type": "code",
   "execution_count": null,
   "metadata": {},
   "outputs": [],
   "source": [
    "storage_0 = paths.Storage('scheme_0.nc', mode='r')\n",
    "storage_1 = paths.Storage('scheme_1.nc', mode='r')\n",
    "storage_2 = paths.Storage('scheme_2.nc', mode='r')\n",
    "storage_3 = paths.Storage('scheme_3.nc', mode='r')\n",
    "storage_4 = paths.Storage('scheme_4.nc', mode='r')\n",
    "storage_retis = paths.Storage('retis.nc', mode='r')"
   ]
  },
  {
   "cell_type": "code",
   "execution_count": null,
   "metadata": {},
   "outputs": [],
   "source": [
    "scheme_0 = storage_0.schemes['scheme_0']\n",
    "scheme_1 = storage_1.schemes['scheme_1']\n",
    "scheme_2 = storage_2.schemes['scheme_2']\n",
    "scheme_3 = storage_3.schemes['scheme_3']\n",
    "scheme_4 = storage_4.schemes['scheme_4']\n",
    "scheme_retis = storage_retis.schemes['retis']"
   ]
  },
  {
   "cell_type": "markdown",
   "metadata": {},
   "source": [
    "### Comparing the move summaries"
   ]
  },
  {
   "cell_type": "code",
   "execution_count": null,
   "metadata": {
    "scrolled": false
   },
   "outputs": [],
   "source": [
    "# takes a few minutes\n",
    "scheme_retis.move_summary(storage_retis.steps)"
   ]
  },
  {
   "cell_type": "code",
   "execution_count": null,
   "metadata": {
    "scrolled": true
   },
   "outputs": [],
   "source": [
    "scheme_retis.move_summary(movers='shooting')"
   ]
  },
  {
   "cell_type": "code",
   "execution_count": null,
   "metadata": {
    "scrolled": true
   },
   "outputs": [],
   "source": [
    "scheme_retis.move_summary(movers='repex')"
   ]
  },
  {
   "cell_type": "code",
   "execution_count": null,
   "metadata": {},
   "outputs": [],
   "source": [
    "# each of these takes a minute or so\n",
    "scheme_0.move_summary(storage_0.steps)"
   ]
  },
  {
   "cell_type": "code",
   "execution_count": null,
   "metadata": {},
   "outputs": [],
   "source": [
    "scheme_1.move_summary(storage_1.steps)"
   ]
  },
  {
   "cell_type": "code",
   "execution_count": null,
   "metadata": {},
   "outputs": [],
   "source": [
    "scheme_2.move_summary(storage_2.steps)"
   ]
  },
  {
   "cell_type": "code",
   "execution_count": null,
   "metadata": {},
   "outputs": [],
   "source": [
    "scheme_3.move_summary(storage_3.steps)"
   ]
  },
  {
   "cell_type": "code",
   "execution_count": null,
   "metadata": {},
   "outputs": [],
   "source": [
    "scheme_4.move_summary(storage_4.steps)"
   ]
  },
  {
   "cell_type": "code",
   "execution_count": null,
   "metadata": {},
   "outputs": [],
   "source": [
    "scheme_0.move_summary(movers='shooting')"
   ]
  },
  {
   "cell_type": "markdown",
   "metadata": {},
   "source": [
    "### TIS analysis (crossing probabilities, etc.)"
   ]
  },
  {
   "cell_type": "markdown",
   "metadata": {},
   "source": [
    "We don't actually have the flux here, so we can't calculate the actual rates. However, we can create a fake flux that says that the flux through the out of state $A$ and through the innermost interface is `1.0`. This allows us to use the rest of the `StandardTISAnalysis` object. It just means that the rate that gets reported is actually the total transition probability.\n",
    "\n",
    "You can get the actual flux either from including a minus interface move in your TIS simulation, or from using direct MD. The `paths.TrajectoryTransitionAnalysis` class will analyze existing MD trajectories, or the `paths.DirectSimulation` class can run MD and analyze the flux on the fly."
   ]
  },
  {
   "cell_type": "code",
   "execution_count": null,
   "metadata": {},
   "outputs": [],
   "source": [
    "network = storage_retis.networks[0]\n",
    "state_A = storage_retis.volumes['A']\n",
    "interface_0 = network.sampling_transitions[0].interfaces[0]\n",
    "fake_flux = tis.DictFlux({(state_A, interface_0): 1.0})"
   ]
  },
  {
   "cell_type": "markdown",
   "metadata": {},
   "source": [
    "Finally, we assemble the `StandardTISAnalysis` and perform the analysis:"
   ]
  },
  {
   "cell_type": "code",
   "execution_count": null,
   "metadata": {},
   "outputs": [],
   "source": [
    "%%time\n",
    "# takes about 2 minutes\n",
    "retis_analysis = tis.StandardTISAnalysis(\n",
    "    network=network,\n",
    "    flux_method=fake_flux,\n",
    "    max_lambda_calcs={t: {'bin_width': 0.025, 'bin_range': (-0.6, 0.6)}\n",
    "                      for t in network.sampling_transitions},\n",
    "    steps=storage_retis.steps\n",
    ")"
   ]
  },
  {
   "cell_type": "markdown",
   "metadata": {},
   "source": [
    "Currently, the parallel analysis needs an extra step to run correctly. We need to create the `weighted_trajectories` object from the steps, and then perform the overall analysis using that as the input, instead of the steps themselves."
   ]
  },
  {
   "cell_type": "code",
   "execution_count": null,
   "metadata": {},
   "outputs": [],
   "source": [
    "%%time\n",
    "# currently we need to manually join the weighted trajectories from each storage\n",
    "# Future versions of OPS will simplify this\n",
    "weighted_trajectories = {}\n",
    "storages = [storage_0, storage_1, storage_2, storage_3, storage_4]\n",
    "for storage, ensemble in zip(storages, network.sampling_ensembles):\n",
    "    weighted_trajectories.update(\n",
    "        tis.core.steps_to_weighted_trajectories(storage.steps, [ensemble])\n",
    "    )"
   ]
  },
  {
   "cell_type": "code",
   "execution_count": null,
   "metadata": {},
   "outputs": [],
   "source": [
    "%%time\n",
    "# this will take a few minutes\n",
    "state_A = storage_0.volumes['A']\n",
    "interface_0 = network.sampling_transitions[0].interfaces[0]\n",
    "fake_flux = tis.DictFlux({(state_A, interface_0): 1.0})\n",
    "parallel_analysis = tis.StandardTISAnalysis(\n",
    "    network=network,\n",
    "    flux_method=fake_flux,\n",
    "    max_lambda_calcs={t: {'bin_width': 0.025, 'bin_range': (-0.6, 0.6)}\n",
    "                      for t in network.sampling_transitions},\n",
    "    combiners={t.interfaces: paths.numerics.WHAM(cutoff=0.01,\n",
    "                                                 interfaces=t.interfaces.lambdas)\n",
    "               for t in network.sampling_transitions}\n",
    ")\n",
    "parallel_analysis.results['flux'] = fake_flux.calculate('foo')\n",
    "parallel_analysis.results = parallel_analysis.from_weighted_trajectories(weighted_trajectories)"
   ]
  },
  {
   "cell_type": "markdown",
   "metadata": {},
   "source": [
    "### Plotting the crossing probabilities\n",
    "\n",
    "One of the spot-checks to see if your simulation is converged is to plot the crossing probabilities functions. For each ensemble, the `StandardTISAnalysis` calculates a crossing probability along the order parameter, defined as the fraction of paths in that ensemble that reach at least the given value on the $x$ axis. As such, the crossing probability is always 1 for values less than the cutoff for the interface. Additionally, two ensemble crossing probabilities should never cross; the one from an outer interface should always be higher at a given value of the order parameter than one from an inner interface.\n",
    "\n",
    "There is also the *total* crossing probability, which is generated by using a histogram combining algorithm (usually WHAM) to combine the individual ensemble crossing probabilities into a good estimate for the true crossing probability (from the innermost interface). Like all crossing probabilities, this should be monotonically decreasing; if it is not, that is a sign of insufficient sampling.\n",
    "\n",
    "Since the y-axis is probability, and we're looking at rare events, we frequently plot crossing probabilities on a semi-log plot."
   ]
  },
  {
   "cell_type": "code",
   "execution_count": null,
   "metadata": {},
   "outputs": [],
   "source": [
    "for ensemble in network.transitions[(state_A, state_B)].ensembles:\n",
    "    crossing = retis_analysis.crossing_probability(ensemble)\n",
    "    label = \"Interface at $x$={:3.2f}\".format(ensemble.lambda_i)\n",
    "    plt.plot(crossing.x, crossing, label=label)\n",
    "\n",
    "tcp_AB = retis_analysis.total_crossing_probability[(state_A, state_B)]\n",
    "plt.plot(tcp_AB.x, tcp_AB, lw=2, color='k', label=\"Total crossing probability\")\n",
    "plt.legend()\n",
    "plt.yscale('log')\n",
    "plt.xlabel('$x$')\n",
    "plt.ylabel('Crossing probability');"
   ]
  },
  {
   "cell_type": "code",
   "execution_count": null,
   "metadata": {},
   "outputs": [],
   "source": [
    "for ensemble in network.transitions[(state_A, state_B)].ensembles:\n",
    "    crossing = parallel_analysis.crossing_probability(ensemble)\n",
    "    label = \"x={:3.2f}\".format(ensemble.lambda_i)\n",
    "    plt.plot(crossing.x, crossing, label=label)\n",
    "\n",
    "tcp_AB = parallel_analysis.total_crossing_probability[(state_A, state_B)]\n",
    "plt.plot(tcp_AB.x, tcp_AB, lw=2, color='k', label=\"Total crossing probability\")\n",
    "plt.legend()\n",
    "plt.yscale('log')\n",
    "plt.xlabel('$x$')\n",
    "plt.ylabel('Crossing probability');"
   ]
  },
  {
   "cell_type": "code",
   "execution_count": null,
   "metadata": {},
   "outputs": [],
   "source": []
  }
 ],
 "metadata": {
  "kernelspec": {
   "display_name": "Python 3",
   "language": "python",
   "name": "python3"
  },
  "language_info": {
   "codemirror_mode": {
    "name": "ipython",
    "version": 3
   },
   "file_extension": ".py",
   "mimetype": "text/x-python",
   "name": "python",
   "nbconvert_exporter": "python",
   "pygments_lexer": "ipython3",
   "version": "3.7.3"
  },
  "toc": {
   "base_numbering": 1,
   "nav_menu": {},
   "number_sections": true,
   "sideBar": true,
   "skip_h1_title": true,
   "title_cell": "Table of Contents",
   "title_sidebar": "Contents",
   "toc_cell": false,
   "toc_position": {
    "height": "calc(100% - 180px)",
    "left": "10px",
    "top": "150px",
    "width": "278.594px"
   },
   "toc_section_display": true,
   "toc_window_display": true
  },
  "varInspector": {
   "cols": {
    "lenName": 16,
    "lenType": 16,
    "lenVar": 40
   },
   "kernels_config": {
    "python": {
     "delete_cmd_postfix": "",
     "delete_cmd_prefix": "del ",
     "library": "var_list.py",
     "varRefreshCmd": "print(var_dic_list())"
    },
    "r": {
     "delete_cmd_postfix": ") ",
     "delete_cmd_prefix": "rm(",
     "library": "var_list.r",
     "varRefreshCmd": "cat(var_dic_list()) "
    }
   },
   "types_to_exclude": [
    "module",
    "function",
    "builtin_function_or_method",
    "instance",
    "_Feature"
   ],
   "window_display": false
  }
 },
 "nbformat": 4,
 "nbformat_minor": 4
}
