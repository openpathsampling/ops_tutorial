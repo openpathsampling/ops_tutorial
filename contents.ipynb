{
 "cells": [
  {
   "cell_type": "markdown",
   "id": "778a3190-a41d-4298-ac33-3cf9d23ebd74",
   "metadata": {},
   "source": [
    "# Welcome to the OpenPathSampling Tutorial!\n",
    "\n",
    "This repository contains several tutorials for with OpenPathSampling. These can be run on your own machine, or online via Binder. See the repository's README for installation instruction to run this on your own computer. Click on links to launch each notebook.\n",
    "\n",
    "<!-- If you're using this with Binder, the workspace links will set up the JupyterLab interface to run each particular tutorial. -->"
   ]
  },
  {
   "cell_type": "markdown",
   "id": "cee8117e-8180-4ea2-a1dd-23159cc0d148",
   "metadata": {},
   "source": [
    "## Beginner Tutorial: TPS and Committor Analysis\n",
    "\n",
    "<!-- [Binder: Beginner Tutorial Workspace]() (Note: this is the default workspace in Binder.) -->\n",
    "\n",
    "Our standard introductory tutorial consists of notebooks 1-3, which deal with solvated alanine dipeptide. One of the main purposes of these notebooks is to illustrate how OpenPathSampling plays a role within a broader ecosystem of scientific software. You will use general scientific Python tools such as `matplotlib` for plotting, and `numpy` or `pandas` for analysis tools. You will also use tools specific to molecular simulation, such as `openmm`, `nglview`, `mdtraj`, and `openmmtools`.\n",
    "\n",
    "* [0_jupyter_intro.ipynb](0_jupyter_intro.ipynb): Introduction to Jupyter notebooks (optional)\n",
    "* [1_tps_sampling_tutorial.ipynb](1_tps_sampling_tutorial.ipynb): Setting up TPS\n",
    "* [2_tps_analysis_tutorial.ipynb](2_tps_analysis_tutorial.ipynb): Analyzing TPS\n",
    "* [3_committor_analysis_tutorial.ipynb](3_committor_analysis_tutorial.ipynb): Analyzing a committor simulation"
   ]
  },
  {
   "cell_type": "markdown",
   "id": "2e64f5ac-bd87-4a86-984c-f780757f3c22",
   "metadata": {},
   "source": [
    "## Beginner Bonus/Intermediate Starter: TIS on a toy model\n",
    "\n",
    "<!-- [Binder: Intermediate Tutorial Workspace]() -->\n",
    "\n",
    "This is a simple example, and takes much less time to complete than the other tutorials. You can often do this as an extra example after completing the beginner tutorial.\n",
    "\n",
    "* [4_mstis_sampling_tutorial.ipynb](4_mstis_sampling_tutorial.ipynb): Setting up and running multiple state TIS\n"
   ]
  },
  {
   "cell_type": "markdown",
   "id": "469a1cc9-aa21-4854-ac3c-40b9981c067b",
   "metadata": {},
   "source": [
    "## Advanced Tutorial: Customizing Move Schemes and the OPS Command Line\n",
    "\n",
    "<!-- [Binder: Advanced Tutorial Workspace]() -->\n",
    "\n",
    "For more advanced users, we have a tutorial that deals with more complex simulation setups and with using the OPS command line interface. Really, these are two independent tutorials: notebooks 5 and 6 make one tutorial, and notebooks 7 and 8 make the other.\n",
    "\n",
    "* [5_custom_shooting_setup.ipynb](5_custom_shooting_setup.ipynb): TPS with 2-way shooting; changing shooting point selectors\n",
    "* [6_custom_shooting_analysis.ipynb](6_custom_shooting_analysis.ipynb): Analyzing simulations with different shooting point selectors\n",
    "* [7_parallel_tis_setup.ipynb](7_parallel_tis_setup.ipynb): Setting up embarrassingly parallel TIS and a custom RETIS\n",
    "* [8_parallel_tis_analysis.ipynb](8_parallel_tis_analysis.ipynb): Comparing parallel TIS to RETIS"
   ]
  }
 ],
 "metadata": {
  "kernelspec": {
   "display_name": "Python 3",
   "language": "python",
   "name": "python3"
  },
  "language_info": {
   "codemirror_mode": {
    "name": "ipython",
    "version": 3
   },
   "file_extension": ".py",
   "mimetype": "text/x-python",
   "name": "python",
   "nbconvert_exporter": "python",
   "pygments_lexer": "ipython3",
   "version": "3.7.10"
  }
 },
 "nbformat": 4,
 "nbformat_minor": 5
}
