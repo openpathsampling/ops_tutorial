{
 "cells": [
  {
   "cell_type": "markdown",
   "id": "6d51955b-ba20-48b8-b32f-93fad50a316a",
   "metadata": {},
   "source": [
    "# Customizing shooting moves: Analysis\n",
    "\n",
    "Now that you've run the simulation, let's compare the results of two-way shooting with uniform shooting point selection to those with biased shooting point selection.\n",
    "\n",
    "We'll open the output file and consider a few results. Although you can perform all the typical analyses you might do with TPS data (path densities, etc.), here we're just going to look at the acceptance probabilities and the shooting point distributions."
   ]
  },
  {
   "cell_type": "code",
   "execution_count": null,
   "id": "fb5cbd96-2a23-4598-ad0d-993a282f379e",
   "metadata": {},
   "outputs": [],
   "source": [
    "import matplotlib.pyplot as plt\n",
    "\n",
    "import openpathsampling as paths"
   ]
  },
  {
   "cell_type": "code",
   "execution_count": null,
   "id": "2bb71581-0726-412e-aec3-962a3a819a50",
   "metadata": {},
   "outputs": [],
   "source": [
    "std_two_way = paths.Storage(\"2_way.nc\", mode='r')\n",
    "biased_two_way = paths.Storage(\"biased.nc\", mode='r')"
   ]
  },
  {
   "cell_type": "code",
   "execution_count": null,
   "id": "ff711075-4e90-43b0-9f14-c9cb5f41f5f5",
   "metadata": {},
   "outputs": [],
   "source": [
    "two_way_scheme = std_two_way.schemes['2_way']\n",
    "biased_scheme = biased_two_way.schemes['biased_shooting']"
   ]
  },
  {
   "cell_type": "code",
   "execution_count": null,
   "id": "643ba3ba-9b5f-4b73-8d1e-87de015e6e54",
   "metadata": {},
   "outputs": [],
   "source": [
    "two_way_scheme.move_summary(std_two_way.steps)"
   ]
  },
  {
   "cell_type": "code",
   "execution_count": null,
   "id": "b550c1d3-f2a9-4e1b-b785-d49b0c9138ef",
   "metadata": {},
   "outputs": [],
   "source": [
    "biased_scheme.move_summary(biased_two_way.steps)"
   ]
  },
  {
   "cell_type": "markdown",
   "id": "36d9a273-bde7-4aa8-9108-122c892ec01e",
   "metadata": {},
   "source": [
    "As you can see, the acceptance rate for uniform 2-way shooting with complete velocity randomization is pretty low. We improve this significantly by using the Gaussian biased shooting (keeping in mind that 25% is the theoretical maximum acceptance rate for the approach we use here.)\n",
    "\n",
    "Next we will plot the shooting points with uniform shooting point selection and with the Gaussian biased shooting point selection. First we write and use a little function to extract the shooting points."
   ]
  },
  {
   "cell_type": "code",
   "execution_count": null,
   "id": "47bb27d3-4a0d-4063-ac8d-032f1275ae52",
   "metadata": {},
   "outputs": [],
   "source": [
    "def get_shooting_points(steps):\n",
    "    \"\"\"Function to extract x,y positions of all shooting points\"\"\"\n",
    "    shooting_snaps = [step.change.canonical.details.shooting_snapshot for step in steps]\n",
    "    xy = [snap.xyz[0][:2] for snap in shooting_snaps]  # get x and y positions\n",
    "    return tuple(zip(*xy))  # [[x1, y1], [x2, y2]]  => ([x1, x2], [y1, y2])"
   ]
  },
  {
   "cell_type": "code",
   "execution_count": null,
   "id": "56e2dc59-3cb9-4c3c-917b-670d5da84429",
   "metadata": {},
   "outputs": [],
   "source": [
    "# the 0th step saves initial conditions, so we only have shooting moves as of step 1\n",
    "std_x, std_y = get_shooting_points(std_two_way.steps[1:])\n",
    "biased_x, biased_y = get_shooting_points(biased_two_way.steps[1:])"
   ]
  },
  {
   "cell_type": "markdown",
   "id": "3aeae0e4-a8c9-461f-ab94-dbc8d2d2c555",
   "metadata": {},
   "source": [
    "The next two plots show the location of shooting points in the when using uniform shooting (first plot) and when using Gaussian biased shooting (second plot). Note that the shooting points fall in a much narrower range in the Gaussian biased plots. This is also why we get a better acceptance rate!"
   ]
  },
  {
   "cell_type": "code",
   "execution_count": null,
   "id": "a71c14cf-ae55-4f41-a3cd-52fa29c403e2",
   "metadata": {},
   "outputs": [],
   "source": [
    "%run toy_plot_helpers.py\n",
    "# doesn't matter where we get the toy engine from; same in both\n",
    "engine = std_two_way.engines['toy_engine']\n",
    "pes = engine.topology.pes\n",
    "plot = ToyPlot()\n",
    "plot.contour_range = np.arange(-1.5, 1.0, 0.1)\n",
    "plot.add_pes(pes)"
   ]
  },
  {
   "cell_type": "code",
   "execution_count": null,
   "id": "aefe10ec-c62a-474f-8052-8a94aac760f2",
   "metadata": {},
   "outputs": [],
   "source": [
    "# using c=range(len(std_x) and cmap='rainbow' here means that color corresponds to step order\n",
    "plot.plot()\n",
    "plt.scatter(std_x, std_y, c=range(len(std_x)), cmap='rainbow');"
   ]
  },
  {
   "cell_type": "code",
   "execution_count": null,
   "id": "49071ee5-01be-4dc8-994f-493cbadbbca0",
   "metadata": {},
   "outputs": [],
   "source": [
    "plot.plot()\n",
    "plt.scatter(biased_x, biased_y, c=range(len(std_x)), cmap='rainbow');"
   ]
  },
  {
   "cell_type": "markdown",
   "id": "345a5fb5-9bcb-4067-bcf2-3e26bc1ada85",
   "metadata": {},
   "source": [
    "* How would you expect the shooting acceptance to change if we changed $l_0$, the center of the Gaussian? What useful information do we have about this potential energy surface that we might not have in a real system?\n",
    "* What would be the effect of changing the Gaussian selector's $\\alpha$ value (Gaussian width parameter)?"
   ]
  },
  {
   "cell_type": "markdown",
   "id": "1a5b6c4c-2ac7-4778-b3ae-69800401a5e6",
   "metadata": {},
   "source": [
    "Now let's make similar plots, but we'll plot the shooting points for accepted/rejected steps in different colors."
   ]
  },
  {
   "cell_type": "code",
   "execution_count": null,
   "id": "9807f40d-2882-4d53-8223-9ad8492f500c",
   "metadata": {},
   "outputs": [],
   "source": [
    "# create lists to plot the accepted shooting points\n",
    "std_acc_steps = [step for step in std_two_way.steps[1:] if step.change.accepted]\n",
    "std_acc_x, std_acc_y = get_shooting_points(std_acc_steps)\n",
    "\n",
    "biased_acc_steps = [step for step in biased_two_way.steps[1:] if step.change.accepted]\n",
    "biased_acc_x, biased_acc_y = get_shooting_points(biased_acc_steps)"
   ]
  },
  {
   "cell_type": "code",
   "execution_count": null,
   "id": "522a3a56-c119-41b3-8a08-d0edb8e835c6",
   "metadata": {},
   "outputs": [],
   "source": [
    "# YOUR TURN: Do the same for the rejected shooting points.\n",
    "\n",
    "# std_rej_x, std_rej_y = ...\n",
    "# biased_rej_x, biased_rej_y = ..."
   ]
  },
  {
   "cell_type": "code",
   "execution_count": null,
   "id": "991d2207-c7c0-42df-9293-256e2f592594",
   "metadata": {},
   "outputs": [],
   "source": [
    "plot.plot()\n",
    "plt.scatter(std_rej_x, std_rej_y, c='r', label='Rejected')\n",
    "plt.scatter(std_acc_x, std_acc_y, c='b', label='Accepted')\n",
    "plt.legend();"
   ]
  },
  {
   "cell_type": "code",
   "execution_count": null,
   "id": "b8c1a690-c668-4d9b-878c-cb3b6ab40a1c",
   "metadata": {},
   "outputs": [],
   "source": [
    "plot.plot()\n",
    "plt.scatter(biased_rej_x, biased_rej_y, c='r', label='Rejected')\n",
    "plt.scatter(biased_acc_x, biased_acc_y, c='b', label='Accepted')\n",
    "plt.legend();"
   ]
  },
  {
   "cell_type": "markdown",
   "id": "ae380499-1341-447a-a523-53d365b8ec7b",
   "metadata": {},
   "source": [
    "* Are the accepted are rejected shooting points distributed similarly with uniform shooting? What about with the biased selector?\n",
    "* Given the plot of accepted and rejected shooting points for uniform shooting, what would you propose as a shooting point selection bias?"
   ]
  }
 ],
 "metadata": {
  "kernelspec": {
   "display_name": "Python 3",
   "language": "python",
   "name": "python3"
  },
  "language_info": {
   "codemirror_mode": {
    "name": "ipython",
    "version": 3
   },
   "file_extension": ".py",
   "mimetype": "text/x-python",
   "name": "python",
   "nbconvert_exporter": "python",
   "pygments_lexer": "ipython3",
   "version": "3.7.10"
  }
 },
 "nbformat": 4,
 "nbformat_minor": 5
}
